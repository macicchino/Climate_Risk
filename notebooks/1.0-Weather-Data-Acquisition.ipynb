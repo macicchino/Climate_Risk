{
 "cells": [
  {
   "cell_type": "code",
   "execution_count": 1,
   "id": "166e1a4e-25c2-4c7f-b05e-c5056a0cc554",
   "metadata": {},
   "outputs": [
    {
     "name": "stdout",
     "output_type": "stream",
     "text": [
      "Targeting location: Lat 29.9511, Lon -90.0715\n",
      "Targeting historical timestamp: 2005-08-25 12:00:00 UTC (Unix: 1124971200)\n",
      "------------------------------\n",
      "Constructed API Request URL:\n",
      "https://api.openweathermap.org/data/3.0/onecall/history?lat=29.9511&lon=-90.0715&dt=1124971200&appid=3ac010e7bf363acfed0563ef7e7244f9&units=metric\n"
     ]
    }
   ],
   "source": [
    "import requests\n",
    "import json\n",
    "import pandas as pd\n",
    "from datetime import datetime, timezone\n",
    "\n",
    "# --- Configuration ---\n",
    "# IMPORTANT: Replace \"YOUR_OPENWEATHERMAP_API_KEY\" with your actual API key.\n",
    "# For a real project, you'd load this from an environment variable for security.\n",
    "API_KEY = \"3ac010e7bf363acfed0563ef7e7244f9\" # <--- PASTE YOUR API KEY HERE\n",
    "\n",
    "# Coordinates for a sample location (e.g., New Orleans, USA)\n",
    "# These coordinates are used for demonstration. You can change them later.\n",
    "LATITUDE = 29.9511\n",
    "LONGITUDE = -90.0715\n",
    "\n",
    "# A specific historical Unix timestamp (seconds since Jan 1, 1970 UTC)\n",
    "# Example: August 25, 2005, 12:00:00 PM UTC (a day before Hurricane Katrina made landfall)\n",
    "dt_object = datetime(2005, 8, 25, 12, 0, 0, tzinfo=timezone.utc)\n",
    "TIMESTAMP = int(dt_object.timestamp())\n",
    "\n",
    "print(f\"Targeting location: Lat {LATITUDE}, Lon {LONGITUDE}\")\n",
    "print(f\"Targeting historical timestamp: {dt_object.strftime('%Y-%m-%d %H:%M:%S UTC')} (Unix: {TIMESTAMP})\")\n",
    "print(\"-\" * 30)\n",
    "\n",
    "# Base URL for OpenWeatherMap One Call API 3.0 Historical data\n",
    "BASE_URL = \"https://api.openweathermap.org/data/3.0/onecall/history?\"\n",
    "\n",
    "# Parameters for the API request\n",
    "params = {\n",
    "    \"lat\": LATITUDE,\n",
    "    \"lon\": LONGITUDE,\n",
    "    \"dt\": TIMESTAMP,\n",
    "    \"appid\": API_KEY,\n",
    "    \"units\": \"metric\" # You can change to 'imperial' for Fahrenheit, miles/hour, etc.\n",
    "}\n",
    "\n",
    "# Construct the full request URL\n",
    "request_url = f\"{BASE_URL}lat={params['lat']}&lon={params['lon']}&dt={params['dt']}&appid={params['appid']}&units={params['units']}\"\n",
    "\n",
    "print(f\"Constructed API Request URL:\\n{request_url}\")"
   ]
  },
  {
   "cell_type": "code",
   "execution_count": 2,
   "id": "831a66cd-c68e-45c2-a408-0772e28e43bd",
   "metadata": {},
   "outputs": [
    {
     "name": "stdout",
     "output_type": "stream",
     "text": [
      "Attempting to send API request...\n",
      "HTTP error occurred: 401 Client Error: Unauthorized for url: https://api.openweathermap.org/data/3.0/onecall/history?lat=29.9511&lon=-90.0715&dt=1124971200&appid=3ac010e7bf363acfed0563ef7e7244f9&units=metric\n",
      "Response content: {\"cod\":401, \"message\": \"Please note that using One Call 3.0 requires a separate subscription to the One Call by Call plan. Learn more here https://openweathermap.org/price. If you have a valid subscription to the One Call by Call plan, but still receive this error, then please see https://openweathermap.org/faq#error401 for more info.\"}\n"
     ]
    }
   ],
   "source": [
    "try:\n",
    "    print(\"Attempting to send API request...\")\n",
    "    response = requests.get(request_url)\n",
    "\n",
    "    # Raise an exception for HTTP errors (4xx or 5xx status codes)\n",
    "    response.raise_for_status()\n",
    "\n",
    "    # If no error, parse the JSON response\n",
    "    data = response.json()\n",
    "\n",
    "    print(\"\\nAPI Request Successful!\")\n",
    "    print(f\"HTTP Status Code: {response.status_code}\")\n",
    "    print(\"\\nPartial API Response (first 500 characters for brevity):\")\n",
    "    # Pretty print a snippet of the JSON response for readability\n",
    "    print(json.dumps(data, indent=2)[:500])\n",
    "    print(\"...\") # Indicate more data exists if truncated\n",
    "\n",
    "except requests.exceptions.HTTPError as http_err:\n",
    "    print(f\"HTTP error occurred: {http_err}\")  # e.g., 401 Unauthorized, 404 Not Found\n",
    "    print(f\"Response content: {response.text}\") # Print full response for debugging\n",
    "except requests.exceptions.ConnectionError as conn_err:\n",
    "    print(f\"Connection error occurred: {conn_err}\") # e.g., no internet connection\n",
    "except requests.exceptions.Timeout as timeout_err:\n",
    "    print(f\"Timeout error occurred: {timeout_err}\") # e.g., server too slow\n",
    "except requests.exceptions.RequestException as req_err:\n",
    "    print(f\"An unexpected error occurred: {req_err}\") # Catch-all for other request errors\n",
    "except json.JSONDecodeError as json_err:\n",
    "    print(f\"Error decoding JSON response: {json_err}\")\n",
    "    print(f\"Raw response text: {response.text}\")\n",
    "    "
   ]
  },
  {
   "cell_type": "code",
   "execution_count": null,
   "id": "ef20f733-aee2-4733-a7ad-f9226ea6701f",
   "metadata": {},
   "outputs": [],
   "source": []
  }
 ],
 "metadata": {
  "kernelspec": {
   "display_name": "Python 3 (ipykernel)",
   "language": "python",
   "name": "python3"
  },
  "language_info": {
   "codemirror_mode": {
    "name": "ipython",
    "version": 3
   },
   "file_extension": ".py",
   "mimetype": "text/x-python",
   "name": "python",
   "nbconvert_exporter": "python",
   "pygments_lexer": "ipython3",
   "version": "3.13.5"
  }
 },
 "nbformat": 4,
 "nbformat_minor": 5
}
